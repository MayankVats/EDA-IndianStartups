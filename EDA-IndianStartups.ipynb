{
 "cells": [
  {
   "cell_type": "markdown",
   "metadata": {},
   "source": [
    "# Indian Startup Dataset\n",
    "\n",
    "Dataset Source: Coding Ninjas(Data Science and Machine Learning Course)\n",
    "\n",
    "<b><u>Description: </u></b>\n",
    "- This dataset has funding information of the Indian startups from January 2015 to August 2017.\n",
    "- The data is in Comma Seperated Values(CSV) format.\n",
    "<br><br>\n",
    "\n",
    "### We have to preprocess(clean) the dataset first, to answer the questions."
   ]
  },
  {
   "cell_type": "markdown",
   "metadata": {},
   "source": [
    "## Importing necessary libraries."
   ]
  },
  {
   "cell_type": "code",
   "execution_count": 1,
   "metadata": {},
   "outputs": [],
   "source": [
    "# used for scientific computation\n",
    "import numpy as np\n",
    "\n",
    "# used for data analysis, manipulation and extraction\n",
    "import pandas as pd\n",
    "\n",
    "# data visualization library\n",
    "import matplotlib.pyplot as plt\n",
    "plt.style.use(\"fivethirtyeight\")\n",
    "\n",
    "# Regular Expressions\n",
    "import re"
   ]
  },
  {
   "cell_type": "code",
   "execution_count": 2,
   "metadata": {},
   "outputs": [
    {
     "data": {
      "text/html": [
       "<div>\n",
       "<style scoped>\n",
       "    .dataframe tbody tr th:only-of-type {\n",
       "        vertical-align: middle;\n",
       "    }\n",
       "\n",
       "    .dataframe tbody tr th {\n",
       "        vertical-align: top;\n",
       "    }\n",
       "\n",
       "    .dataframe thead th {\n",
       "        text-align: right;\n",
       "    }\n",
       "</style>\n",
       "<table border=\"1\" class=\"dataframe\">\n",
       "  <thead>\n",
       "    <tr style=\"text-align: right;\">\n",
       "      <th></th>\n",
       "      <th>Columns</th>\n",
       "      <th>Description</th>\n",
       "    </tr>\n",
       "  </thead>\n",
       "  <tbody>\n",
       "    <tr>\n",
       "      <th>0</th>\n",
       "      <td>SNo</td>\n",
       "      <td>Serial number.</td>\n",
       "    </tr>\n",
       "    <tr>\n",
       "      <th>1</th>\n",
       "      <td>Date</td>\n",
       "      <td>Date of funding in format DD/MM/YYYY.</td>\n",
       "    </tr>\n",
       "    <tr>\n",
       "      <th>2</th>\n",
       "      <td>StartupName</td>\n",
       "      <td>Name of the startup which got funded.</td>\n",
       "    </tr>\n",
       "    <tr>\n",
       "      <th>3</th>\n",
       "      <td>IndustryVertical</td>\n",
       "      <td>Industry to which the startup belongs.</td>\n",
       "    </tr>\n",
       "    <tr>\n",
       "      <th>4</th>\n",
       "      <td>SubVertical</td>\n",
       "      <td>Sub-category of the industry type.</td>\n",
       "    </tr>\n",
       "    <tr>\n",
       "      <th>5</th>\n",
       "      <td>CityLocation</td>\n",
       "      <td>City which the startup is based out of.</td>\n",
       "    </tr>\n",
       "    <tr>\n",
       "      <th>6</th>\n",
       "      <td>InvestorsName</td>\n",
       "      <td>Name of the investors involved in the funding ...</td>\n",
       "    </tr>\n",
       "    <tr>\n",
       "      <th>7</th>\n",
       "      <td>InvestmentType</td>\n",
       "      <td>Either Private Equity or Seed Funding.</td>\n",
       "    </tr>\n",
       "    <tr>\n",
       "      <th>8</th>\n",
       "      <td>AmountInUSD</td>\n",
       "      <td>Funding Amount in USD.</td>\n",
       "    </tr>\n",
       "    <tr>\n",
       "      <th>9</th>\n",
       "      <td>Remarks</td>\n",
       "      <td>Other information, if any.</td>\n",
       "    </tr>\n",
       "  </tbody>\n",
       "</table>\n",
       "</div>"
      ],
      "text/plain": [
       "            Columns                                        Description\n",
       "0               SNo                                     Serial number.\n",
       "1              Date              Date of funding in format DD/MM/YYYY.\n",
       "2       StartupName              Name of the startup which got funded.\n",
       "3  IndustryVertical             Industry to which the startup belongs.\n",
       "4       SubVertical                 Sub-category of the industry type.\n",
       "5      CityLocation            City which the startup is based out of.\n",
       "6     InvestorsName  Name of the investors involved in the funding ...\n",
       "7    InvestmentType             Either Private Equity or Seed Funding.\n",
       "8       AmountInUSD                             Funding Amount in USD.\n",
       "9           Remarks                         Other information, if any."
      ]
     },
     "execution_count": 2,
     "metadata": {},
     "output_type": "execute_result"
    }
   ],
   "source": [
    "# loading the dataset\n",
    "df = pd.read_csv('startup_funding.csv', index_col=\"SNo\")\n",
    "\n",
    "# self-made dataset of each columns' description\n",
    "info = pd.read_csv(\"startup_description.csv\")\n",
    "info"
   ]
  },
  {
   "cell_type": "code",
   "execution_count": 3,
   "metadata": {},
   "outputs": [
    {
     "name": "stdout",
     "output_type": "stream",
     "text": [
      "The dataset has 2372 datapoints(rows) and 9 features(columns).\n"
     ]
    }
   ],
   "source": [
    "# Check the shape of the dataset\n",
    "\n",
    "rows, cols = df.shape\n",
    "print(f\"The dataset has {rows} datapoints(rows) and {cols} features(columns).\")"
   ]
  },
  {
   "cell_type": "markdown",
   "metadata": {},
   "source": [
    "## Looking at the Sample of the dataset"
   ]
  },
  {
   "cell_type": "code",
   "execution_count": 4,
   "metadata": {
    "scrolled": true
   },
   "outputs": [
    {
     "data": {
      "text/html": [
       "<div>\n",
       "<style scoped>\n",
       "    .dataframe tbody tr th:only-of-type {\n",
       "        vertical-align: middle;\n",
       "    }\n",
       "\n",
       "    .dataframe tbody tr th {\n",
       "        vertical-align: top;\n",
       "    }\n",
       "\n",
       "    .dataframe thead th {\n",
       "        text-align: right;\n",
       "    }\n",
       "</style>\n",
       "<table border=\"1\" class=\"dataframe\">\n",
       "  <thead>\n",
       "    <tr style=\"text-align: right;\">\n",
       "      <th></th>\n",
       "      <th>Date</th>\n",
       "      <th>StartupName</th>\n",
       "      <th>IndustryVertical</th>\n",
       "      <th>SubVertical</th>\n",
       "      <th>CityLocation</th>\n",
       "      <th>InvestorsName</th>\n",
       "      <th>InvestmentType</th>\n",
       "      <th>AmountInUSD</th>\n",
       "      <th>Remarks</th>\n",
       "    </tr>\n",
       "    <tr>\n",
       "      <th>SNo</th>\n",
       "      <th></th>\n",
       "      <th></th>\n",
       "      <th></th>\n",
       "      <th></th>\n",
       "      <th></th>\n",
       "      <th></th>\n",
       "      <th></th>\n",
       "      <th></th>\n",
       "      <th></th>\n",
       "    </tr>\n",
       "  </thead>\n",
       "  <tbody>\n",
       "    <tr>\n",
       "      <th>0</th>\n",
       "      <td>01/08/2017</td>\n",
       "      <td>TouchKin</td>\n",
       "      <td>Technology</td>\n",
       "      <td>Predictive Care Platform</td>\n",
       "      <td>Bangalore</td>\n",
       "      <td>Kae Capital</td>\n",
       "      <td>Private Equity</td>\n",
       "      <td>1,300,000</td>\n",
       "      <td>NaN</td>\n",
       "    </tr>\n",
       "    <tr>\n",
       "      <th>1</th>\n",
       "      <td>02/08/2017</td>\n",
       "      <td>Ethinos</td>\n",
       "      <td>Technology</td>\n",
       "      <td>Digital Marketing Agency</td>\n",
       "      <td>Mumbai</td>\n",
       "      <td>Triton Investment Advisors</td>\n",
       "      <td>Private Equity</td>\n",
       "      <td>NaN</td>\n",
       "      <td>NaN</td>\n",
       "    </tr>\n",
       "    <tr>\n",
       "      <th>2</th>\n",
       "      <td>02/08/2017</td>\n",
       "      <td>Leverage Edu</td>\n",
       "      <td>Consumer Internet</td>\n",
       "      <td>Online platform for Higher Education Services</td>\n",
       "      <td>New Delhi</td>\n",
       "      <td>Kashyap Deorah, Anand Sankeshwar, Deepak Jain,...</td>\n",
       "      <td>Seed Funding</td>\n",
       "      <td>NaN</td>\n",
       "      <td>NaN</td>\n",
       "    </tr>\n",
       "    <tr>\n",
       "      <th>3</th>\n",
       "      <td>02/08/2017</td>\n",
       "      <td>Zepo</td>\n",
       "      <td>Consumer Internet</td>\n",
       "      <td>DIY Ecommerce platform</td>\n",
       "      <td>Mumbai</td>\n",
       "      <td>Kunal Shah, LetsVenture, Anupam Mittal, Hetal ...</td>\n",
       "      <td>Seed Funding</td>\n",
       "      <td>500,000</td>\n",
       "      <td>NaN</td>\n",
       "    </tr>\n",
       "    <tr>\n",
       "      <th>4</th>\n",
       "      <td>02/08/2017</td>\n",
       "      <td>Click2Clinic</td>\n",
       "      <td>Consumer Internet</td>\n",
       "      <td>healthcare service aggregator</td>\n",
       "      <td>Hyderabad</td>\n",
       "      <td>Narottam Thudi, Shireesh Palle</td>\n",
       "      <td>Seed Funding</td>\n",
       "      <td>850,000</td>\n",
       "      <td>NaN</td>\n",
       "    </tr>\n",
       "  </tbody>\n",
       "</table>\n",
       "</div>"
      ],
      "text/plain": [
       "           Date   StartupName   IndustryVertical  \\\n",
       "SNo                                                \n",
       "0    01/08/2017      TouchKin         Technology   \n",
       "1    02/08/2017       Ethinos         Technology   \n",
       "2    02/08/2017  Leverage Edu  Consumer Internet   \n",
       "3    02/08/2017          Zepo  Consumer Internet   \n",
       "4    02/08/2017  Click2Clinic  Consumer Internet   \n",
       "\n",
       "                                       SubVertical CityLocation  \\\n",
       "SNo                                                               \n",
       "0                         Predictive Care Platform    Bangalore   \n",
       "1                         Digital Marketing Agency       Mumbai   \n",
       "2    Online platform for Higher Education Services    New Delhi   \n",
       "3                           DIY Ecommerce platform       Mumbai   \n",
       "4                    healthcare service aggregator    Hyderabad   \n",
       "\n",
       "                                         InvestorsName  InvestmentType  \\\n",
       "SNo                                                                      \n",
       "0                                          Kae Capital  Private Equity   \n",
       "1                           Triton Investment Advisors  Private Equity   \n",
       "2    Kashyap Deorah, Anand Sankeshwar, Deepak Jain,...    Seed Funding   \n",
       "3    Kunal Shah, LetsVenture, Anupam Mittal, Hetal ...    Seed Funding   \n",
       "4                       Narottam Thudi, Shireesh Palle    Seed Funding   \n",
       "\n",
       "    AmountInUSD Remarks  \n",
       "SNo                      \n",
       "0     1,300,000     NaN  \n",
       "1           NaN     NaN  \n",
       "2           NaN     NaN  \n",
       "3       500,000     NaN  \n",
       "4       850,000     NaN  "
      ]
     },
     "execution_count": 4,
     "metadata": {},
     "output_type": "execute_result"
    }
   ],
   "source": [
    "# to view first 5 data points\n",
    "\n",
    "df.head()"
   ]
  },
  {
   "cell_type": "code",
   "execution_count": 5,
   "metadata": {
    "scrolled": true
   },
   "outputs": [
    {
     "data": {
      "text/html": [
       "<div>\n",
       "<style scoped>\n",
       "    .dataframe tbody tr th:only-of-type {\n",
       "        vertical-align: middle;\n",
       "    }\n",
       "\n",
       "    .dataframe tbody tr th {\n",
       "        vertical-align: top;\n",
       "    }\n",
       "\n",
       "    .dataframe thead th {\n",
       "        text-align: right;\n",
       "    }\n",
       "</style>\n",
       "<table border=\"1\" class=\"dataframe\">\n",
       "  <thead>\n",
       "    <tr style=\"text-align: right;\">\n",
       "      <th></th>\n",
       "      <th>Date</th>\n",
       "      <th>StartupName</th>\n",
       "      <th>IndustryVertical</th>\n",
       "      <th>SubVertical</th>\n",
       "      <th>CityLocation</th>\n",
       "      <th>InvestorsName</th>\n",
       "      <th>InvestmentType</th>\n",
       "      <th>AmountInUSD</th>\n",
       "      <th>Remarks</th>\n",
       "    </tr>\n",
       "    <tr>\n",
       "      <th>SNo</th>\n",
       "      <th></th>\n",
       "      <th></th>\n",
       "      <th></th>\n",
       "      <th></th>\n",
       "      <th></th>\n",
       "      <th></th>\n",
       "      <th></th>\n",
       "      <th></th>\n",
       "      <th></th>\n",
       "    </tr>\n",
       "  </thead>\n",
       "  <tbody>\n",
       "    <tr>\n",
       "      <th>2367</th>\n",
       "      <td>29/01/2015</td>\n",
       "      <td>Printvenue</td>\n",
       "      <td>NaN</td>\n",
       "      <td>NaN</td>\n",
       "      <td>NaN</td>\n",
       "      <td>Asia Pacific Internet Group</td>\n",
       "      <td>Private Equity</td>\n",
       "      <td>4,500,000</td>\n",
       "      <td>NaN</td>\n",
       "    </tr>\n",
       "    <tr>\n",
       "      <th>2368</th>\n",
       "      <td>29/01/2015</td>\n",
       "      <td>Graphene</td>\n",
       "      <td>NaN</td>\n",
       "      <td>NaN</td>\n",
       "      <td>NaN</td>\n",
       "      <td>KARSEMVEN Fund</td>\n",
       "      <td>Private Equity</td>\n",
       "      <td>825,000</td>\n",
       "      <td>Govt backed VC Fund</td>\n",
       "    </tr>\n",
       "    <tr>\n",
       "      <th>2369</th>\n",
       "      <td>30/01/2015</td>\n",
       "      <td>Mad Street Den</td>\n",
       "      <td>NaN</td>\n",
       "      <td>NaN</td>\n",
       "      <td>NaN</td>\n",
       "      <td>Exfinity Fund, GrowX Ventures.</td>\n",
       "      <td>Private Equity</td>\n",
       "      <td>1,500,000</td>\n",
       "      <td>NaN</td>\n",
       "    </tr>\n",
       "    <tr>\n",
       "      <th>2370</th>\n",
       "      <td>30/01/2015</td>\n",
       "      <td>Simplotel</td>\n",
       "      <td>NaN</td>\n",
       "      <td>NaN</td>\n",
       "      <td>NaN</td>\n",
       "      <td>MakeMyTrip</td>\n",
       "      <td>Private Equity</td>\n",
       "      <td>NaN</td>\n",
       "      <td>Strategic Funding, Minority stake</td>\n",
       "    </tr>\n",
       "    <tr>\n",
       "      <th>2371</th>\n",
       "      <td>31/01/2015</td>\n",
       "      <td>couponmachine.in</td>\n",
       "      <td>NaN</td>\n",
       "      <td>NaN</td>\n",
       "      <td>NaN</td>\n",
       "      <td>UK based Group of Angel Investors</td>\n",
       "      <td>Seed Funding</td>\n",
       "      <td>140,000</td>\n",
       "      <td>NaN</td>\n",
       "    </tr>\n",
       "  </tbody>\n",
       "</table>\n",
       "</div>"
      ],
      "text/plain": [
       "            Date       StartupName IndustryVertical SubVertical CityLocation  \\\n",
       "SNo                                                                            \n",
       "2367  29/01/2015        Printvenue              NaN         NaN          NaN   \n",
       "2368  29/01/2015          Graphene              NaN         NaN          NaN   \n",
       "2369  30/01/2015    Mad Street Den              NaN         NaN          NaN   \n",
       "2370  30/01/2015         Simplotel              NaN         NaN          NaN   \n",
       "2371  31/01/2015  couponmachine.in              NaN         NaN          NaN   \n",
       "\n",
       "                          InvestorsName  InvestmentType AmountInUSD  \\\n",
       "SNo                                                                   \n",
       "2367        Asia Pacific Internet Group  Private Equity   4,500,000   \n",
       "2368                     KARSEMVEN Fund  Private Equity     825,000   \n",
       "2369     Exfinity Fund, GrowX Ventures.  Private Equity   1,500,000   \n",
       "2370                         MakeMyTrip  Private Equity         NaN   \n",
       "2371  UK based Group of Angel Investors    Seed Funding     140,000   \n",
       "\n",
       "                                Remarks  \n",
       "SNo                                      \n",
       "2367                                NaN  \n",
       "2368                Govt backed VC Fund  \n",
       "2369                                NaN  \n",
       "2370  Strategic Funding, Minority stake  \n",
       "2371                                NaN  "
      ]
     },
     "execution_count": 5,
     "metadata": {},
     "output_type": "execute_result"
    }
   ],
   "source": [
    "# to view last 5 data points\n",
    "\n",
    "df.tail()"
   ]
  },
  {
   "cell_type": "markdown",
   "metadata": {},
   "source": [
    "## Visualization of null enteries"
   ]
  },
  {
   "cell_type": "code",
   "execution_count": 6,
   "metadata": {
    "scrolled": true
   },
   "outputs": [
    {
     "data": {
      "image/png": "[encoded data removed]",
      "text/plain": [
       "<Figure size 432x288 with 1 Axes>"
      ]
     },
     "metadata": {},
     "output_type": "display_data"
    }
   ],
   "source": [
    "nullVal = {}\n",
    "for i in df.columns:\n",
    "    nullVal[i] = df[i].isnull().sum()\n",
    "\n",
    "# sorting the dictionary based on number of null enteries\n",
    "nullVal = dict(sorted(nullVal.items(), key=lambda x:x[1]))\n",
    "\n",
    "col = list(nullVal.keys())\n",
    "val = list(nullVal.values())\n",
    "\n",
    "plt.barh(col, val, color = \"#34495e\")\n",
    "plt.title(\"Visualization of Null Values\")\n",
    "\n",
    "plt.show()"
   ]
  },
  {
   "cell_type": "markdown",
   "metadata": {},
   "source": [
    "### *As observed above, column remarks has highest density of null values therefore we can drop that column.*"
   ]
  },
  {
   "cell_type": "code",
   "execution_count": 7,
   "metadata": {},
   "outputs": [],
   "source": [
    "df.drop(columns = ['Remarks'], inplace = True)"
   ]
  },
  {
   "cell_type": "markdown",
   "metadata": {},
   "source": [
    "## Does datatype match as observed in the sample above ?"
   ]
  },
  {
   "cell_type": "code",
   "execution_count": 8,
   "metadata": {
    "scrolled": false
   },
   "outputs": [
    {
     "name": "stdout",
     "output_type": "stream",
     "text": [
      "The data types of the features are: \n",
      "-----------------------------------\n",
      "Date                object\n",
      "StartupName         object\n",
      "IndustryVertical    object\n",
      "SubVertical         object\n",
      "CityLocation        object\n",
      "InvestorsName       object\n",
      "InvestmentType      object\n",
      "AmountInUSD         object\n",
      "dtype: object\n"
     ]
    }
   ],
   "source": [
    "print(\"The data types of the features are: \")\n",
    "print(\"-----------------------------------\")\n",
    "\n",
    "print(df.dtypes)"
   ]
  },
  {
   "cell_type": "markdown",
   "metadata": {},
   "source": [
    "### *After observing the sample and the datatypes of each feature, there seems to be mismatch in the datatype of column AmountInUSD(which should be numeric) and the column InvestmentType(which should be categorical).*"
   ]
  },
  {
   "cell_type": "code",
   "execution_count": 9,
   "metadata": {
    "scrolled": true
   },
   "outputs": [
    {
     "data": {
      "text/plain": [
       "SNo\n",
       "0       1300000\n",
       "1             0\n",
       "2             0\n",
       "3        500000\n",
       "4        850000\n",
       "         ...   \n",
       "2367    4500000\n",
       "2368     825000\n",
       "2369    1500000\n",
       "2370          0\n",
       "2371     140000\n",
       "Name: AmountInUSD, Length: 2372, dtype: int64"
      ]
     },
     "execution_count": 9,
     "metadata": {},
     "output_type": "execute_result"
    }
   ],
   "source": [
    "# replacing all the NaN values with '0'\n",
    "# can be replaced with some other values but '0' seems right in this case.\n",
    "df['AmountInUSD'].fillna(\"0\", inplace=True)\n",
    "\n",
    "# converting each value to integer\n",
    "df['AmountInUSD'] = df['AmountInUSD'].map(lambda x: int(x.replace(',', '')))\n",
    "\n",
    "df['AmountInUSD']"
   ]
  },
  {
   "cell_type": "markdown",
   "metadata": {},
   "source": [
    "## Listing all the unique values of 'InvestmentType' column"
   ]
  },
  {
   "cell_type": "code",
   "execution_count": 10,
   "metadata": {
    "scrolled": false
   },
   "outputs": [
    {
     "name": "stdout",
     "output_type": "stream",
     "text": [
      "Private Equity\n",
      "Seed Funding\n",
      "Debt Funding\n",
      "nan\n",
      "SeedFunding\n",
      "PrivateEquity\n",
      "Crowd funding\n",
      "Crowd Funding\n"
     ]
    }
   ],
   "source": [
    "print(*(df['InvestmentType'].unique()), sep='\\n')"
   ]
  },
  {
   "cell_type": "code",
   "execution_count": 11,
   "metadata": {},
   "outputs": [],
   "source": [
    "# replacing typos in the InvestmentType\n",
    "\n",
    "df['InvestmentType'].replace('PrivateEquity', 'Private Equity', inplace = True)\n",
    "df['InvestmentType'].replace('SeedFunding', 'Seed Funding', inplace = True)\n",
    "df['InvestmentType'].replace('Crowd funding', 'Crowd Funding', inplace = True)"
   ]
  },
  {
   "cell_type": "code",
   "execution_count": 12,
   "metadata": {
    "scrolled": false
   },
   "outputs": [
    {
     "name": "stdout",
     "output_type": "stream",
     "text": [
      "Private Equity\n",
      "Seed Funding\n",
      "Debt Funding\n",
      "nan\n",
      "Crowd Funding\n"
     ]
    }
   ],
   "source": [
    "print(*(df['InvestmentType'].unique()), sep='\\n')"
   ]
  },
  {
   "cell_type": "code",
   "execution_count": 13,
   "metadata": {},
   "outputs": [
    {
     "data": {
      "text/plain": [
       "1"
      ]
     },
     "execution_count": 13,
     "metadata": {},
     "output_type": "execute_result"
    }
   ],
   "source": [
    "df['InvestmentType'].isnull().sum()"
   ]
  },
  {
   "cell_type": "code",
   "execution_count": 14,
   "metadata": {},
   "outputs": [],
   "source": [
    "df.dropna(axis='index', how='all', subset=['InvestmentType'], inplace=True)\n",
    "df['InvestmentType'] = df['InvestmentType'].astype('category')"
   ]
  },
  {
   "cell_type": "markdown",
   "metadata": {},
   "source": [
    "## Cleaning the 'Date' columns"
   ]
  },
  {
   "cell_type": "code",
   "execution_count": 15,
   "metadata": {
    "scrolled": true
   },
   "outputs": [
    {
     "data": {
      "text/plain": [
       "SNo\n",
       "0    01/08/2017\n",
       "1    02/08/2017\n",
       "2    02/08/2017\n",
       "3    02/08/2017\n",
       "4    02/08/2017\n",
       "Name: Date, dtype: object"
      ]
     },
     "execution_count": 15,
     "metadata": {},
     "output_type": "execute_result"
    }
   ],
   "source": [
    "df['Date'].head()"
   ]
  },
  {
   "cell_type": "code",
   "execution_count": 16,
   "metadata": {},
   "outputs": [
    {
     "data": {
      "text/plain": [
       "SNo\n",
       "2103     12/05.2015\n",
       "2104     12/05.2015\n",
       "2159     13/04.2015\n",
       "2339     15/01.2015\n",
       "2357    22/01//2015\n",
       "Name: Date, dtype: object"
      ]
     },
     "execution_count": 16,
     "metadata": {},
     "output_type": "execute_result"
    }
   ],
   "source": [
    "# to check any mistakes in the dates\n",
    "dateRegex = re.compile(r'\\d+/\\d+/\\d+')\n",
    "\n",
    "def checkDate(date):\n",
    "    mo = dateRegex.search(date)\n",
    "    return mo == None\n",
    "    \n",
    "filt_date = df['Date'].apply(checkDate)\n",
    "df[filt_date]['Date']"
   ]
  },
  {
   "cell_type": "code",
   "execution_count": 17,
   "metadata": {},
   "outputs": [],
   "source": [
    "# now we can replace those inconsistent date format with the right one\n",
    "\n",
    "df['Date'].replace('12/05.2015', '12/05/2015', inplace=True)\n",
    "df['Date'].replace('13/04.2015', '13/04/2015', inplace=True)\n",
    "df['Date'].replace('15/01.2015', '15/01/2015', inplace=True)\n",
    "df['Date'].replace('22/01//2015', '22/01/2015', inplace=True)"
   ]
  },
  {
   "cell_type": "code",
   "execution_count": 18,
   "metadata": {},
   "outputs": [],
   "source": [
    "# converting to the datetime data type.\n",
    "\n",
    "df['Date'] = pd.to_datetime(df['Date'])"
   ]
  },
  {
   "cell_type": "code",
   "execution_count": 19,
   "metadata": {
    "scrolled": true
   },
   "outputs": [
    {
     "data": {
      "text/plain": [
       "Date                datetime64[ns]\n",
       "StartupName                 object\n",
       "IndustryVertical            object\n",
       "SubVertical                 object\n",
       "CityLocation                object\n",
       "InvestorsName               object\n",
       "InvestmentType            category\n",
       "AmountInUSD                  int64\n",
       "dtype: object"
      ]
     },
     "execution_count": 19,
     "metadata": {},
     "output_type": "execute_result"
    }
   ],
   "source": [
    "df.dtypes"
   ]
  },
  {
   "cell_type": "markdown",
   "metadata": {},
   "source": [
    "## Cleaning the 'IndustryVertical' column"
   ]
  },
  {
   "cell_type": "code",
   "execution_count": 20,
   "metadata": {},
   "outputs": [
    {
     "name": "stdout",
     "output_type": "stream",
     "text": [
      "There are 743 unique IndustryTypes\n"
     ]
    }
   ],
   "source": [
    "# replacing null values with \"Others\"\n",
    "df['IndustryVertical'].fillna(\"Others\", inplace = True)\n",
    "\n",
    "industry = df['IndustryVertical'].unique()\n",
    "print(f\"There are {len(industry)} unique IndustryTypes\")"
   ]
  },
  {
   "cell_type": "code",
   "execution_count": 21,
   "metadata": {},
   "outputs": [],
   "source": [
    "\n",
    "filt = df['IndustryVertical'].str.contains('ecommerce|marketplace|commerce|e-tailer', flags=re.IGNORECASE)\n",
    "df.loc[filt, 'IndustryVertical'] = 'eCommerce'\n",
    "\n",
    "\n",
    "filt = df['IndustryVertical'].str.contains('Ed-Tech|eLearning|education|E-learning|learning', flags=re.IGNORECASE)\n",
    "df.loc[filt, 'IndustryVertical'] = \"edTech\"\n",
    "\n",
    "\n",
    "filt = df['IndustryVertical'].str.contains('BFSI|Financial\\sTech|Finance', flags=re.IGNORECASE)\n",
    "df.loc[filt, 'IndustryVertical'] = \"Finance\"\n",
    "\n",
    "\n",
    "filt = df['IndustryVertical'].str.contains('Healthcare|health|medical|dental', flags=re.IGNORECASE)\n",
    "df.loc[filt, 'IndustryVertical'] = \"Healthcare\"\n",
    "\n",
    "\n",
    "filt = df['IndustryVertical'].str.contains('search|aggregator|internet|interne|online|platform|web|video|portal', \n",
    "                                           flags=re.IGNORECASE)\n",
    "df.loc[filt, 'IndustryVertical'] = \"Internet\"\n",
    "\n",
    "\n",
    "filt = df['IndustryVertical'].str.contains(\"app|software|manufacturers|manufacturer|creator|Assisstant\", flags=re.IGNORECASE)\n",
    "df.loc[filt, 'IndustryVertical'] = \"Technology\"\n",
    "\n",
    "\n",
    "filt = df['IndustryVertical'].str.contains(\"Logistics|Logistic\", flags=re.IGNORECASE)\n",
    "df.loc[filt, 'IndustryVertical'] = \"Logistics\"\n",
    "\n",
    "\n",
    "filt = df['IndustryVertical'].str.contains(\"food|tea|Gourmet|beverages|beverage|restaurant|qsr\", flags=re.IGNORECASE)\n",
    "df.loc[filt, 'IndustryVertical'] = \"Food\"\n",
    "\n",
    "\n",
    "filt = df['IndustryVertical'].str.contains(\"brand|solution|solutions|services|service|consulting|svcs|data\", flags=re.IGNORECASE)\n",
    "df.loc[filt, 'IndustryVertical'] = \"Service\""
   ]
  },
  {
   "cell_type": "code",
   "execution_count": 22,
   "metadata": {},
   "outputs": [
    {
     "data": {
      "text/plain": [
       "Internet      1098\n",
       "Technology     400\n",
       "eCommerce      354\n",
       "Others         177\n",
       "Healthcare      63\n",
       "Service         59\n",
       "edTech          55\n",
       "Logistics       42\n",
       "Food            37\n",
       "Finance         14\n",
       "Name: IndustryVertical, dtype: int64"
      ]
     },
     "execution_count": 22,
     "metadata": {},
     "output_type": "execute_result"
    }
   ],
   "source": [
    "topIndustries = [\"Food\", \"Others\", \"Finance\",\n",
    "                 \"Service\", \"Internet\", \"eCommerce\", \n",
    "                 \"Technology\", \"edTech\", \"Logistics\", \"Healthcare\"]\n",
    "\n",
    "filt = df['IndustryVertical'].isin(topIndustries)\n",
    "\n",
    "df.loc[filt, \"IndustryVertical\"].value_counts()"
   ]
  },
  {
   "cell_type": "markdown",
   "metadata": {},
   "source": [
    "## Cleaning the 'CityLocation' columns"
   ]
  },
  {
   "cell_type": "code",
   "execution_count": 23,
   "metadata": {
    "scrolled": true
   },
   "outputs": [],
   "source": [
    "# for i in df['CityLocation'].unique():\n",
    "#     print(i)"
   ]
  },
  {
   "cell_type": "code",
   "execution_count": 24,
   "metadata": {},
   "outputs": [
    {
     "data": {
      "text/plain": [
       "179"
      ]
     },
     "execution_count": 24,
     "metadata": {},
     "output_type": "execute_result"
    }
   ],
   "source": [
    "df['CityLocation'].isnull().sum()"
   ]
  },
  {
   "cell_type": "code",
   "execution_count": 25,
   "metadata": {},
   "outputs": [],
   "source": [
    "# handling null values\n",
    "df['CityLocation'].fillna(\"Not Specified\", inplace=True)\n",
    "\n",
    "df['CityLocation'] = df['CityLocation'].map(lambda x: re.sub(\"\\s*/\\s*\", \"/\", x))"
   ]
  },
  {
   "cell_type": "markdown",
   "metadata": {},
   "source": [
    "#### The code below cleans the CityLocation's values"
   ]
  },
  {
   "cell_type": "code",
   "execution_count": 26,
   "metadata": {},
   "outputs": [],
   "source": [
    "filt = df['CityLocation'].str.contains(\"New Delhi|Delhi\", flags=re.IGNORECASE)\n",
    "df.loc[filt, 'CityLocation'] = \"New Delhi\"\n",
    "\n",
    "filt = df['CityLocation'].str.contains(\"Bangalore\", flags=re.IGNORECASE)\n",
    "df.loc[filt, 'CityLocation'] = \"Bangalore\"\n",
    "\n",
    "filt = df['CityLocation'].str.contains(\"Noida\", flags=re.IGNORECASE)\n",
    "df.loc[filt, 'CityLocation'] = \"Noida\"\n",
    "\n",
    "filt = df['CityLocation'].str.contains(\"Hyderabad\", flags=re.IGNORECASE)\n",
    "df.loc[filt, 'CityLocation'] = \"Hyderabad\"\n",
    "\n",
    "filt = df['CityLocation'].str.contains(\"Mumbai\", flags=re.IGNORECASE)\n",
    "df.loc[filt, 'CityLocation'] = \"Mumbai\"\n",
    "\n",
    "filt = df['CityLocation'].str.contains(\"Pune\", flags=re.IGNORECASE)\n",
    "df.loc[filt, 'CityLocation'] = \"Pune\"\n",
    "\n",
    "filt = df['CityLocation'].str.contains(\"Gurgaon\", flags=re.IGNORECASE)\n",
    "df.loc[filt, 'CityLocation'] = 'Gurgaon'\n",
    "\n",
    "filt = df['CityLocation'].str.contains(\"India\", flags=re.IGNORECASE)\n",
    "df.loc[filt, 'CityLocation'] = 'India'\n",
    "\n",
    "filt = df['CityLocation'].str.contains(\"Chennai\", flags=re.IGNORECASE)\n",
    "df.loc[filt, 'CityLocation'] = \"Chennai\"\n",
    "\n",
    "filt = df['CityLocation'].str.contains(\"US\")\n",
    "df.loc[filt, 'CityLocation'] = \"USA\""
   ]
  },
  {
   "cell_type": "code",
   "execution_count": 27,
   "metadata": {
    "scrolled": true
   },
   "outputs": [],
   "source": [
    "# df['CityLocation'].value_counts()"
   ]
  },
  {
   "cell_type": "markdown",
   "metadata": {},
   "source": [
    "### Most of the dataset have been cleaned and Missing values have been handled."
   ]
  },
  {
   "cell_type": "code",
   "execution_count": 28,
   "metadata": {
    "scrolled": true
   },
   "outputs": [],
   "source": [
    "# df"
   ]
  },
  {
   "cell_type": "markdown",
   "metadata": {},
   "source": [
    "# TASK 1\n",
    "\n",
    "Your Friend has developed the Product and he wants to establish the product startup and he is searching for a perfect location where getting the investment has a high chance.<br>\n",
    "But due to its financial restriction, he can choose only between three locations -  Bangalore, Mumbai, and NCR(including Gurgaon, Noida and New Delhi).\n",
    "\n",
    "As a friend, you want to help him deciding the location. \n",
    "\n",
    "- Find the location where startups has received funding maximum number of times. \n",
    "\n",
    "- Plot the bar graph between location and number of funding. "
   ]
  },
  {
   "cell_type": "code",
   "execution_count": 29,
   "metadata": {},
   "outputs": [
    {
     "data": {
      "image/png": "[encoded data removed]",
      "text/plain": [
       "<Figure size 432x288 with 1 Axes>"
      ]
     },
     "metadata": {},
     "output_type": "display_data"
    },
    {
     "name": "stdout",
     "output_type": "stream",
     "text": [
      "Bangalore seems to be perfect location for establishment of the startup.\n"
     ]
    }
   ],
   "source": [
    "locGroup = df.groupby('CityLocation')\n",
    "\n",
    "NCR = [\"Gurgaon\", \"Noida\", \"New Delhi\"]\n",
    "locations = [\"Bangalore\", \"Mumbai\"]\n",
    "\n",
    "locs = {}\n",
    "for i in (locations + NCR):\n",
    "    if i in NCR:\n",
    "        locs[\"NCR\"] = locs.get(i, 0) + locGroup.get_group(i).shape[0]\n",
    "    else:\n",
    "        locs[i] = locs.get(i, 0) + locGroup.get_group(i).shape[0]\n",
    "\n",
    "fundings = list(locs.values())\n",
    "locs = list(locs.keys())\n",
    "\n",
    "plt.barh(locs, fundings, height = 0.6, color = \"#9980FA\")\n",
    "\n",
    "plt.title(\"Fundings VS Locations\")\n",
    "plt.xlabel(\"Number of Fundings\")\n",
    "plt.ylabel(\"Locations\")\n",
    "\n",
    "plt.show()\n",
    "\n",
    "print(\"Bangalore seems to be perfect location for establishment of the startup.\")"
   ]
  },
  {
   "cell_type": "markdown",
   "metadata": {},
   "source": [
    "# Task 2\n",
    "\n",
    "Even after trying for so many times, your friend’s startup could not find the investment. So you decided to take this matter in your hand and try to find the list of investors who probably can invest in your friend’s startup.<br>\n",
    "Your list will increase the chance of your friend startup getting some initial investment by contacting these investors.\n",
    "\n",
    "- Find the top 5 investors who have invested maximum number of times (consider repeat investments in one company also).\n",
    "- In a startup, multiple investors might have invested. So consider each investor for that startup.\n",
    "- Ignore undisclosed investors."
   ]
  },
  {
   "cell_type": "code",
   "execution_count": 30,
   "metadata": {},
   "outputs": [],
   "source": [
    "df['InvestorsName'].fillna(\"Undisclosed Investor\", inplace=True)"
   ]
  },
  {
   "cell_type": "code",
   "execution_count": 31,
   "metadata": {},
   "outputs": [],
   "source": [
    "filt = df['InvestorsName'].str.contains(\"undisclosed investors\", flags = re.IGNORECASE)\n",
    "\n",
    "df.loc[filt, 'InvestorsName'] = \"Undisclosed Investors\""
   ]
  },
  {
   "cell_type": "code",
   "execution_count": 32,
   "metadata": {},
   "outputs": [
    {
     "name": "stdout",
     "output_type": "stream",
     "text": [
      "842\n"
     ]
    },
    {
     "data": {
      "image/png": "[encoded data removed]",
      "text/plain": [
       "<Figure size 432x288 with 1 Axes>"
      ]
     },
     "metadata": {},
     "output_type": "display_data"
    }
   ],
   "source": [
    "investors = {}\n",
    "\n",
    "filt = (df['CityLocation'] == \"Bangalore\")\n",
    "for i in df.loc[filt, 'InvestorsName'].values:\n",
    "    for name in i.split(','):\n",
    "        name = name.strip()\n",
    "        investors[name] = investors.get(name, 0) + 1\n",
    "\n",
    "# Total investors in Bangalore\n",
    "print(len(investors))\n",
    "\n",
    "# sorting investors based on number of times they have invested\n",
    "investors = dict(sorted(investors.items(), key=lambda x: x[1], reverse=True)[:5])\n",
    "\n",
    "names = list(investors.keys())\n",
    "i_times = list(investors.values())\n",
    "\n",
    "plt.barh(names, i_times, height = 0.6, color = \"#F79F1F\")\n",
    "\n",
    "plt.title(\"Top five investors in Bangalore\")\n",
    "\n",
    "plt.show()"
   ]
  },
  {
   "cell_type": "markdown",
   "metadata": {},
   "source": [
    "# Task 3\n",
    "\n",
    "Even after putting so much effort in finding the probable investors, it didn't turn out to be helpful for your friend. So you went to your investor friend to understand the situation better and your investor friend explained to you about the different Investment Types and their features. This new information will be helpful in finding the right investor. Since your friend startup is at an early stage startup, the best-suited investment type would be - Seed Funding and Crowdfunding.\n",
    "\n",
    "- Find the top 5 investors who have invested in a different number of startups and their investment type is Crowdfunding or Seed Funding."
   ]
  },
  {
   "cell_type": "code",
   "execution_count": 33,
   "metadata": {
    "scrolled": true
   },
   "outputs": [],
   "source": [
    "# extracting data for only NCR, Bangalore and Mumbai\n",
    "\n",
    "filt = df['CityLocation'].isin(locations+NCR)\n",
    "\n",
    "new_df = df[filt]"
   ]
  },
  {
   "cell_type": "code",
   "execution_count": 34,
   "metadata": {
    "scrolled": true
   },
   "outputs": [
    {
     "data": {
      "text/plain": [
       "Seed Funding      964\n",
       "Private Equity    830\n",
       "Debt Funding        0\n",
       "Crowd Funding       0\n",
       "Name: InvestmentType, dtype: int64"
      ]
     },
     "execution_count": 34,
     "metadata": {},
     "output_type": "execute_result"
    }
   ],
   "source": [
    "# checking the counts of each InvestmentType\n",
    "\n",
    "new_df['InvestmentType'].value_counts()"
   ]
  },
  {
   "cell_type": "code",
   "execution_count": 35,
   "metadata": {},
   "outputs": [
    {
     "name": "stdout",
     "output_type": "stream",
     "text": [
      "Indian Angel Network\n",
      "Rajan Anandan\n",
      "Kunal Shah\n",
      "LetsVenture\n",
      "Anupam Mittal\n"
     ]
    }
   ],
   "source": [
    "filt = (new_df['InvestmentType'] == \"Seed Funding\")\n",
    "\n",
    "investors = {}\n",
    "\n",
    "for i in new_df.loc[filt, \"InvestorsName\"].values:\n",
    "    for name in i.split(','):\n",
    "        name = name.strip()\n",
    "        if(name not in  ['', 'Undisclosed Investors']):\n",
    "            investors[name] = investors.get(name, 0) + 1\n",
    "\n",
    "investors = dict(sorted(investors.items(), key=lambda x:x[1], reverse=True)[:5])\n",
    "print(*(list(investors.keys())), sep = '\\n')"
   ]
  },
  {
   "cell_type": "markdown",
   "metadata": {},
   "source": [
    "                                           END OF Project"
   ]
  }
 ],
 "metadata": {
  "kernelspec": {
   "display_name": "Python 3",
   "language": "python",
   "name": "python3"
  },
  "language_info": {
   "codemirror_mode": {
    "name": "ipython",
    "version": 3
   },
   "file_extension": ".py",
   "mimetype": "text/x-python",
   "name": "python",
   "nbconvert_exporter": "python",
   "pygments_lexer": "ipython3",
   "version": "3.6.9"
  }
 },
 "nbformat": 4,
 "nbformat_minor": 4
}
